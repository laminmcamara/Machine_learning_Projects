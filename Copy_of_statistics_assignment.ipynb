{
  "cells": [
    {
      "cell_type": "markdown",
      "metadata": {
        "id": "view-in-github",
        "colab_type": "text"
      },
      "source": [
        "<a href=\"https://colab.research.google.com/github/laminmcamara/Machine_learning_Projects/blob/main/Copy_of_statistics_assignment.ipynb\" target=\"_parent\"><img src=\"https://colab.research.google.com/assets/colab-badge.svg\" alt=\"Open In Colab\"/></a>"
      ]
    },
    {
      "cell_type": "code",
      "execution_count": null,
      "id": "09e3b408-387f-4442-addd-7fe4e6e818b3",
      "metadata": {
        "id": "09e3b408-387f-4442-addd-7fe4e6e818b3"
      },
      "outputs": [],
      "source": [
        "# Statistics Assignment\n",
        "# Q1.\n",
        "\n",
        "\n",
        "import statistics\n",
        "list = [4,1,5,4,3,7,2,3,4,1] # 10 household\n",
        "statistics.mode(list) # output 4\n",
        "\n",
        "statistics.mean(list)  # output 3.4\n",
        "\n",
        "statistics.median(list)  # output 3.5\n",
        "\n",
        "# Calculate the probability that a household chosen at random from those in the survey would have (i) exactly 4 children (ii) more than 4 children (iii) less than 4 children.\n",
        "\n",
        "# Data: number of children in 10 households\n",
        "children_counts = [4, 1, 5, 4, 3, 7, 2, 3, 4, 1]\n",
        "\n",
        "# Total number of households\n",
        "total_households = len(children_counts)\n",
        "\n",
        "# Count occurrences using lambda functions\n",
        "count_4 = sum(map(lambda x: 1 if x == 4 else 0, children_counts))\n",
        "count_more_than_4 = sum(map(lambda x: 1 if x > 4 else 0, children_counts))\n",
        "count_less_than_4 = sum(map(lambda x: 1 if x < 4 else 0, children_counts))\n",
        "print(count_4, '\\n', count_more_than_4, '\\n', count_less_than_4   )  # output 3  , 2  , 5\n",
        "\n",
        "# Calculate probabilities\n",
        "prob_exactly_4 = 3 / 10\n",
        "prob_more_than_4 = 2 / 10\n",
        "prob_less_than_4 = 5/ 10\n",
        "\n",
        "# Print results\n",
        "print(f\"Probability of exactly 4 children: {prob_exactly_4:.2f}\")  # output = Probability of exactly 4 children: 0.30\n",
        "print(f\"Probability of more than 4 children: {prob_more_than_4:.2f}\")  # output= Probability of more than 4 children: 0.20\n",
        "\n",
        "print(f\"Probability of less than 4 children: {prob_less_than_4:.2f}\") # output = Probability of less than 4 children: 0.50\n"
      ]
    }
  ],
  "metadata": {
    "kernelspec": {
      "display_name": "Python 3 (ipykernel)",
      "language": "python",
      "name": "python3"
    },
    "language_info": {
      "codemirror_mode": {
        "name": "ipython",
        "version": 3
      },
      "file_extension": ".py",
      "mimetype": "text/x-python",
      "name": "python",
      "nbconvert_exporter": "python",
      "pygments_lexer": "ipython3",
      "version": "3.11.7"
    },
    "colab": {
      "provenance": [],
      "toc_visible": true,
      "include_colab_link": true
    }
  },
  "nbformat": 4,
  "nbformat_minor": 5
}