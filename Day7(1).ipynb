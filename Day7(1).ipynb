{
 "cells": [
  {
   "cell_type": "markdown",
   "id": "974e7004-f407-4bef-9117-c42c24955538",
   "metadata": {},
   "source": [
    "# Business Problem #2\n",
    "\n",
    "## You work in a bank where countless transactions happen everyday. Create an ML algorithm to identify fraudulent activity. The operations team has anonymized the data and has given you the features they think are important. Utilise the data present in the `data` folder and create your model. At the end of the analysis, you should expect to answer some of the following questions:\n",
    "\n",
    "- How do you quantify your model is doing a good job?\n",
    "- Which performance metrics do you choose and why?\n",
    "- How are you modelling the data? Such as, Supervised -> Classification, or Unsupervised -> Clustering\n",
    "- How did you decide the model and why? etc."
   ]
  }
 ],
 "metadata": {
  "kernelspec": {
   "display_name": "Python 3 (ipykernel)",
   "language": "python",
   "name": "python3"
  },
  "language_info": {
   "codemirror_mode": {
    "name": "ipython",
    "version": 3
   },
   "file_extension": ".py",
   "mimetype": "text/x-python",
   "name": "python",
   "nbconvert_exporter": "python",
   "pygments_lexer": "ipython3",
   "version": "3.10.11"
  }
 },
 "nbformat": 4,
 "nbformat_minor": 5
}
