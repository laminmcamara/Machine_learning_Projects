{
 "cells": [
  {
   "cell_type": "code",
   "execution_count": 1,
   "id": "f3dd37f8-bb17-4f09-8a16-67f1444be5f4",
   "metadata": {},
   "outputs": [
    {
     "name": "stdout",
     "output_type": "stream",
     "text": [
      "Requirement already satisfied: google-api-python-client in c:\\programdata\\anaconda3\\lib\\site-packages (2.134.0)\n",
      "Requirement already satisfied: google-auth-httplib2 in c:\\programdata\\anaconda3\\lib\\site-packages (0.2.0)\n",
      "Requirement already satisfied: google-auth-oauthlib in c:\\programdata\\anaconda3\\lib\\site-packages (1.2.0)\n",
      "Requirement already satisfied: httplib2<1.dev0,>=0.19.0 in c:\\programdata\\anaconda3\\lib\\site-packages (from google-api-python-client) (0.22.0)\n",
      "Requirement already satisfied: google-auth!=2.24.0,!=2.25.0,<3.0.0.dev0,>=1.32.0 in c:\\programdata\\anaconda3\\lib\\site-packages (from google-api-python-client) (2.30.0)\n",
      "Requirement already satisfied: google-api-core!=2.0.*,!=2.1.*,!=2.2.*,!=2.3.0,<3.0.0.dev0,>=1.31.5 in c:\\programdata\\anaconda3\\lib\\site-packages (from google-api-python-client) (2.19.0)\n",
      "Requirement already satisfied: uritemplate<5,>=3.0.1 in c:\\programdata\\anaconda3\\lib\\site-packages (from google-api-python-client) (4.1.1)\n",
      "Requirement already satisfied: requests-oauthlib>=0.7.0 in c:\\programdata\\anaconda3\\lib\\site-packages (from google-auth-oauthlib) (2.0.0)\n",
      "Requirement already satisfied: googleapis-common-protos<2.0.dev0,>=1.56.2 in c:\\programdata\\anaconda3\\lib\\site-packages (from google-api-core!=2.0.*,!=2.1.*,!=2.2.*,!=2.3.0,<3.0.0.dev0,>=1.31.5->google-api-python-client) (1.63.1)\n",
      "Requirement already satisfied: protobuf!=3.20.0,!=3.20.1,!=4.21.0,!=4.21.1,!=4.21.2,!=4.21.3,!=4.21.4,!=4.21.5,<5.0.0.dev0,>=3.19.5 in c:\\programdata\\anaconda3\\lib\\site-packages (from google-api-core!=2.0.*,!=2.1.*,!=2.2.*,!=2.3.0,<3.0.0.dev0,>=1.31.5->google-api-python-client) (3.20.3)\n",
      "Requirement already satisfied: proto-plus<2.0.0dev,>=1.22.3 in c:\\programdata\\anaconda3\\lib\\site-packages (from google-api-core!=2.0.*,!=2.1.*,!=2.2.*,!=2.3.0,<3.0.0.dev0,>=1.31.5->google-api-python-client) (1.24.0)\n",
      "Requirement already satisfied: requests<3.0.0.dev0,>=2.18.0 in c:\\programdata\\anaconda3\\lib\\site-packages (from google-api-core!=2.0.*,!=2.1.*,!=2.2.*,!=2.3.0,<3.0.0.dev0,>=1.31.5->google-api-python-client) (2.31.0)\n",
      "Requirement already satisfied: cachetools<6.0,>=2.0.0 in c:\\programdata\\anaconda3\\lib\\site-packages (from google-auth!=2.24.0,!=2.25.0,<3.0.0.dev0,>=1.32.0->google-api-python-client) (4.2.2)\n",
      "Requirement already satisfied: pyasn1-modules>=0.2.1 in c:\\programdata\\anaconda3\\lib\\site-packages (from google-auth!=2.24.0,!=2.25.0,<3.0.0.dev0,>=1.32.0->google-api-python-client) (0.2.8)\n",
      "Requirement already satisfied: rsa<5,>=3.1.4 in c:\\programdata\\anaconda3\\lib\\site-packages (from google-auth!=2.24.0,!=2.25.0,<3.0.0.dev0,>=1.32.0->google-api-python-client) (4.9)\n",
      "Requirement already satisfied: pyparsing!=3.0.0,!=3.0.1,!=3.0.2,!=3.0.3,<4,>=2.4.2 in c:\\programdata\\anaconda3\\lib\\site-packages (from httplib2<1.dev0,>=0.19.0->google-api-python-client) (3.0.9)\n",
      "Requirement already satisfied: oauthlib>=3.0.0 in c:\\programdata\\anaconda3\\lib\\site-packages (from requests-oauthlib>=0.7.0->google-auth-oauthlib) (3.2.2)\n",
      "Requirement already satisfied: pyasn1<0.5.0,>=0.4.6 in c:\\programdata\\anaconda3\\lib\\site-packages (from pyasn1-modules>=0.2.1->google-auth!=2.24.0,!=2.25.0,<3.0.0.dev0,>=1.32.0->google-api-python-client) (0.4.8)\n",
      "Requirement already satisfied: charset-normalizer<4,>=2 in c:\\programdata\\anaconda3\\lib\\site-packages (from requests<3.0.0.dev0,>=2.18.0->google-api-core!=2.0.*,!=2.1.*,!=2.2.*,!=2.3.0,<3.0.0.dev0,>=1.31.5->google-api-python-client) (2.0.4)\n",
      "Requirement already satisfied: idna<4,>=2.5 in c:\\programdata\\anaconda3\\lib\\site-packages (from requests<3.0.0.dev0,>=2.18.0->google-api-core!=2.0.*,!=2.1.*,!=2.2.*,!=2.3.0,<3.0.0.dev0,>=1.31.5->google-api-python-client) (3.4)\n",
      "Requirement already satisfied: urllib3<3,>=1.21.1 in c:\\programdata\\anaconda3\\lib\\site-packages (from requests<3.0.0.dev0,>=2.18.0->google-api-core!=2.0.*,!=2.1.*,!=2.2.*,!=2.3.0,<3.0.0.dev0,>=1.31.5->google-api-python-client) (2.0.7)\n",
      "Requirement already satisfied: certifi>=2017.4.17 in c:\\programdata\\anaconda3\\lib\\site-packages (from requests<3.0.0.dev0,>=2.18.0->google-api-core!=2.0.*,!=2.1.*,!=2.2.*,!=2.3.0,<3.0.0.dev0,>=1.31.5->google-api-python-client) (2024.2.2)\n"
     ]
    }
   ],
   "source": [
    "!pip install --upgrade google-api-python-client google-auth-httplib2 google-auth-oauthlib"
   ]
  },
  {
   "cell_type": "markdown",
   "id": "4ce3b884-742e-48a3-a2a3-fd973e8b0314",
   "metadata": {},
   "source": [
    "# The dataset contains information about possums."
   ]
  },
  {
   "cell_type": "markdown",
   "id": "082bfd30-e63f-4953-b6c2-d325ad059b7f",
   "metadata": {},
   "source": [
    "## Our objective is to be able to find a relationship between the possums body size/ head size and it's age\n",
    "\n"
   ]
  },
  {
   "cell_type": "code",
   "execution_count": 6,
   "id": "a198e249-7771-4041-90b7-c3f29c19fdab",
   "metadata": {},
   "outputs": [],
   "source": [
    "# import necessary libraries\n",
    "import pandas as pd\n",
    "import matplotlib.pyplot as plt\n",
    "import numpy as np"
   ]
  },
  {
   "cell_type": "code",
   "execution_count": 8,
   "id": "3dced39c-6df5-4585-a64f-34a2f39ec8fe",
   "metadata": {
    "scrolled": true
   },
   "outputs": [
    {
     "name": "stdout",
     "output_type": "stream",
     "text": [
      "   case  site    Pop sex  age  hdlngth  skullw  totlngth  taill  footlgth  \\\n",
      "0    39     2    Vic   f  1.0     84.7    51.5      75.0   34.0      68.7   \n",
      "1    32     1    Vic   f  4.0     94.3    56.7      94.0   39.0      74.8   \n",
      "2    85     6  other   m  3.0     89.5    56.2      92.0   40.5      65.6   \n",
      "3     4     1    Vic   f  6.0     93.2    57.1      92.0   38.0      76.1   \n",
      "4    66     5  other   f  3.0     90.4    55.8      86.0   36.5      63.2   \n",
      "\n",
      "   earconch   eye  chest  belly  \n",
      "0      53.4  13.0   25.0   25.0  \n",
      "1      52.0  14.9   28.0   34.0  \n",
      "2      43.5  14.5   27.0   31.5  \n",
      "3      52.2  15.2   28.0   34.0  \n",
      "4      44.2  15.7   26.5   34.0  \n"
     ]
    }
   ],
   "source": [
    "# Load the data and print the head\n",
    "train_df = pd.read_csv('train.csv')\n",
    "print(train_df.head())"
   ]
  },
  {
   "cell_type": "markdown",
   "id": "28f8307c-3036-4847-9571-2d3d794190d2",
   "metadata": {},
   "source": [
    "# Before we go any further, we need to figure out if our data has any unexpected values. Most of the time, we might encounter empty or null data points. These are interpreted as NaN values"
   ]
  },
  {
   "cell_type": "code",
   "execution_count": 9,
   "id": "8f9b6a81-78be-476c-b275-030f6200802a",
   "metadata": {},
   "outputs": [
    {
     "name": "stdout",
     "output_type": "stream",
     "text": [
      "<class 'pandas.core.frame.DataFrame'>\n",
      "RangeIndex: 73 entries, 0 to 72\n",
      "Data columns (total 14 columns):\n",
      " #   Column    Non-Null Count  Dtype  \n",
      "---  ------    --------------  -----  \n",
      " 0   case      73 non-null     int64  \n",
      " 1   site      73 non-null     int64  \n",
      " 2   Pop       73 non-null     object \n",
      " 3   sex       73 non-null     object \n",
      " 4   age       72 non-null     float64\n",
      " 5   hdlngth   73 non-null     float64\n",
      " 6   skullw    73 non-null     float64\n",
      " 7   totlngth  73 non-null     float64\n",
      " 8   taill     73 non-null     float64\n",
      " 9   footlgth  72 non-null     float64\n",
      " 10  earconch  73 non-null     float64\n",
      " 11  eye       73 non-null     float64\n",
      " 12  chest     73 non-null     float64\n",
      " 13  belly     73 non-null     float64\n",
      "dtypes: float64(10), int64(2), object(2)\n",
      "memory usage: 8.1+ KB\n"
     ]
    }
   ],
   "source": [
    "train_df.info()"
   ]
  },
  {
   "cell_type": "markdown",
   "id": "b2c1fa2f-3458-4760-868f-f6899d7bafbb",
   "metadata": {},
   "source": [
    "### We see we have 72 age values, 73 hdlngth values and 73 totlngth values, which means one row doesn't have any age information. There are many ways to handle this kind of dirty data. For now we will just drop the rows with NaN values"
   ]
  },
  {
   "cell_type": "code",
   "execution_count": 11,
   "id": "ca6caeed-0635-47ef-bc8a-bd1f30dd26e1",
   "metadata": {},
   "outputs": [],
   "source": [
    "train_df = train_df.dropna()"
   ]
  },
  {
   "cell_type": "markdown",
   "id": "3cc8a160-0146-45c5-8a6e-38b0accf667a",
   "metadata": {},
   "source": [
    "## Once we print the head, we will see we have a column called age, hdlngth and totlngth. These three should be the age, head length and total length of the possums"
   ]
  },
  {
   "cell_type": "code",
   "execution_count": 12,
   "id": "9e487418-017d-4ecf-84e8-f2dde5139d7c",
   "metadata": {},
   "outputs": [
    {
     "data": {
      "text/html": [
       "<div>\n",
       "<style scoped>\n",
       "    .dataframe tbody tr th:only-of-type {\n",
       "        vertical-align: middle;\n",
       "    }\n",
       "\n",
       "    .dataframe tbody tr th {\n",
       "        vertical-align: top;\n",
       "    }\n",
       "\n",
       "    .dataframe thead th {\n",
       "        text-align: right;\n",
       "    }\n",
       "</style>\n",
       "<table border=\"1\" class=\"dataframe\">\n",
       "  <thead>\n",
       "    <tr style=\"text-align: right;\">\n",
       "      <th></th>\n",
       "      <th>case</th>\n",
       "      <th>site</th>\n",
       "      <th>Pop</th>\n",
       "      <th>sex</th>\n",
       "      <th>age</th>\n",
       "      <th>hdlngth</th>\n",
       "      <th>skullw</th>\n",
       "      <th>totlngth</th>\n",
       "      <th>taill</th>\n",
       "      <th>footlgth</th>\n",
       "      <th>earconch</th>\n",
       "      <th>eye</th>\n",
       "      <th>chest</th>\n",
       "      <th>belly</th>\n",
       "    </tr>\n",
       "  </thead>\n",
       "  <tbody>\n",
       "    <tr>\n",
       "      <th>0</th>\n",
       "      <td>6</td>\n",
       "      <td>1</td>\n",
       "      <td>Vic</td>\n",
       "      <td>f</td>\n",
       "      <td>1.0</td>\n",
       "      <td>93.1</td>\n",
       "      <td>54.8</td>\n",
       "      <td>90.5</td>\n",
       "      <td>35.5</td>\n",
       "      <td>73.2</td>\n",
       "      <td>53.6</td>\n",
       "      <td>14.2</td>\n",
       "      <td>30.0</td>\n",
       "      <td>32.0</td>\n",
       "    </tr>\n",
       "    <tr>\n",
       "      <th>1</th>\n",
       "      <td>8</td>\n",
       "      <td>1</td>\n",
       "      <td>Vic</td>\n",
       "      <td>f</td>\n",
       "      <td>6.0</td>\n",
       "      <td>94.8</td>\n",
       "      <td>57.6</td>\n",
       "      <td>91.0</td>\n",
       "      <td>37.0</td>\n",
       "      <td>72.7</td>\n",
       "      <td>53.9</td>\n",
       "      <td>14.5</td>\n",
       "      <td>29.0</td>\n",
       "      <td>34.0</td>\n",
       "    </tr>\n",
       "    <tr>\n",
       "      <th>2</th>\n",
       "      <td>13</td>\n",
       "      <td>1</td>\n",
       "      <td>Vic</td>\n",
       "      <td>m</td>\n",
       "      <td>5.0</td>\n",
       "      <td>95.1</td>\n",
       "      <td>59.9</td>\n",
       "      <td>89.5</td>\n",
       "      <td>36.0</td>\n",
       "      <td>71.0</td>\n",
       "      <td>49.8</td>\n",
       "      <td>15.8</td>\n",
       "      <td>27.0</td>\n",
       "      <td>32.0</td>\n",
       "    </tr>\n",
       "    <tr>\n",
       "      <th>3</th>\n",
       "      <td>15</td>\n",
       "      <td>1</td>\n",
       "      <td>Vic</td>\n",
       "      <td>m</td>\n",
       "      <td>5.0</td>\n",
       "      <td>92.9</td>\n",
       "      <td>57.6</td>\n",
       "      <td>85.5</td>\n",
       "      <td>34.0</td>\n",
       "      <td>69.7</td>\n",
       "      <td>51.8</td>\n",
       "      <td>15.7</td>\n",
       "      <td>28.0</td>\n",
       "      <td>35.0</td>\n",
       "    </tr>\n",
       "    <tr>\n",
       "      <th>4</th>\n",
       "      <td>20</td>\n",
       "      <td>1</td>\n",
       "      <td>Vic</td>\n",
       "      <td>f</td>\n",
       "      <td>4.0</td>\n",
       "      <td>94.8</td>\n",
       "      <td>56.3</td>\n",
       "      <td>89.0</td>\n",
       "      <td>38.0</td>\n",
       "      <td>73.8</td>\n",
       "      <td>52.4</td>\n",
       "      <td>15.5</td>\n",
       "      <td>27.0</td>\n",
       "      <td>36.0</td>\n",
       "    </tr>\n",
       "  </tbody>\n",
       "</table>\n",
       "</div>"
      ],
      "text/plain": [
       "   case  site  Pop sex  age  hdlngth  skullw  totlngth  taill  footlgth  \\\n",
       "0     6     1  Vic   f  1.0     93.1    54.8      90.5   35.5      73.2   \n",
       "1     8     1  Vic   f  6.0     94.8    57.6      91.0   37.0      72.7   \n",
       "2    13     1  Vic   m  5.0     95.1    59.9      89.5   36.0      71.0   \n",
       "3    15     1  Vic   m  5.0     92.9    57.6      85.5   34.0      69.7   \n",
       "4    20     1  Vic   f  4.0     94.8    56.3      89.0   38.0      73.8   \n",
       "\n",
       "   earconch   eye  chest  belly  \n",
       "0      53.6  14.2   30.0   32.0  \n",
       "1      53.9  14.5   29.0   34.0  \n",
       "2      49.8  15.8   27.0   32.0  \n",
       "3      51.8  15.7   28.0   35.0  \n",
       "4      52.4  15.5   27.0   36.0  "
      ]
     },
     "execution_count": 12,
     "metadata": {},
     "output_type": "execute_result"
    }
   ],
   "source": [
    "# Let's also load the test data and do the same exercise to ensure you don't have NaN data points\n",
    "test_df = pd.read_csv('test.csv')\n",
    "test_df.head()"
   ]
  },
  {
   "cell_type": "code",
   "execution_count": 13,
   "id": "9697bec8-c9c1-4b83-aeb5-bb7e8a4030f6",
   "metadata": {},
   "outputs": [],
   "source": [
    "test_df = test_df.dropna()"
   ]
  },
  {
   "cell_type": "code",
   "execution_count": 14,
   "id": "b46f2ec4-4a99-4771-8fa8-54f75a057d36",
   "metadata": {},
   "outputs": [
    {
     "name": "stdout",
     "output_type": "stream",
     "text": [
      "   age  hdlngth  totlngth\n",
      "0  1.0     84.7      75.0\n",
      "1  4.0     94.3      94.0\n",
      "2  3.0     89.5      92.0\n",
      "3  6.0     93.2      92.0\n",
      "4  3.0     90.4      86.0\n"
     ]
    }
   ],
   "source": [
    "# let us isolate those features\n",
    "train_df = train_df[['age', 'hdlngth', 'totlngth']]\n",
    "print(train_df.head())\n"
   ]
  },
  {
   "cell_type": "code",
   "execution_count": 15,
   "id": "007375bc-b2d7-4722-991f-8abbf07dc627",
   "metadata": {},
   "outputs": [
    {
     "name": "stdout",
     "output_type": "stream",
     "text": [
      "   age  hdlngth  totlngth\n",
      "0  1.0     93.1      90.5\n",
      "1  6.0     94.8      91.0\n",
      "2  5.0     95.1      89.5\n",
      "3  5.0     92.9      85.5\n",
      "4  4.0     94.8      89.0\n"
     ]
    }
   ],
   "source": [
    "# let us isolate those features\n",
    "test_df = test_df[['age', 'hdlngth', 'totlngth']]\n",
    "print(test_df.head())"
   ]
  },
  {
   "cell_type": "code",
   "execution_count": 16,
   "id": "ab38d0b0-4afc-4935-82eb-4b4db0823acf",
   "metadata": {},
   "outputs": [
    {
     "data": {
      "image/png": "[encoded data removed]",
      "text/plain": [
       "<Figure size 1500x700 with 2 Axes>"
      ]
     },
     "metadata": {},
     "output_type": "display_data"
    }
   ],
   "source": [
    "# we will now visualise the columns using scatterplots. We need to identify if there exists any patterns we can utilise.\n",
    "\n",
    "# let us set a landscape figure of size 15cm x 7cm\n",
    "plt.figure(figsize=(15, 7))\n",
    "# we will also create subplots so that the data is split in it's own window\n",
    "ax1 = plt.subplot(1, 2, 1)     # subplot function takes three values, total number of rows, total number of columns and the position of your plot in that grid\n",
    "plt.scatter(train_df.age, train_df.hdlngth)\n",
    "ax1.set_xlabel('age')\n",
    "ax1.set_ylabel('Head Length')\n",
    "\n",
    "# let's create the second subplot\n",
    "ax2 = plt.subplot(1, 2, 2)     # notice the position of next plot is 2 in out 1x2 grid\n",
    "plt.scatter(train_df['age'], train_df['totlngth'])\n",
    "ax2.set_xlabel('age')\n",
    "ax2.set_ylabel('Total Length')\n",
    "\n",
    "plt.show()"
   ]
  },
  {
   "cell_type": "markdown",
   "id": "b88b2dea-58d7-4565-8ff1-cdafa585f72e",
   "metadata": {},
   "source": [
    "It seems like the age and the lengths are positively correlated; which is expected"
   ]
  },
  {
   "cell_type": "markdown",
   "id": "6eb37b00-5dc2-4229-be38-e63045b58006",
   "metadata": {},
   "source": [
    "### But let's try to predict the age given the total length and the head length of a possum\r\n"
   ]
  },
  {
   "cell_type": "code",
   "execution_count": 17,
   "id": "97d10011-8705-4ac5-b7e3-33d4fd5ffed2",
   "metadata": {},
   "outputs": [],
   "source": [
    "# import machine learning library\n",
    "from sklearn.linear_model import LinearRegression"
   ]
  },
  {
   "cell_type": "markdown",
   "id": "c3fc610d-219f-403d-b456-0f027a145694",
   "metadata": {},
   "source": [
    "### Machine learning is a tool which can learn from the input and output of our data. In our case, we want to predict the age (known as y or target) from the head and total length (known as x or features)\r\n",
    "[ ]\r\n"
   ]
  },
  {
   "cell_type": "code",
   "execution_count": 18,
   "id": "957de681-84f6-4efb-94ee-811e50c969f7",
   "metadata": {},
   "outputs": [],
   "source": [
    "# let's separate the features and target\n",
    "train_x = train_df[['hdlngth', 'totlngth']]\n",
    "train_y = train_df['age']"
   ]
  },
  {
   "cell_type": "code",
   "execution_count": 19,
   "id": "f110ccc6-6dbc-4e72-801d-d95bd8db3956",
   "metadata": {},
   "outputs": [],
   "source": [
    "# let's separate the features and target\n",
    "test_x = test_df[['hdlngth', 'totlngth']]\n",
    "test_y = test_df['age']"
   ]
  },
  {
   "cell_type": "markdown",
   "id": "b8e861bf-4298-426f-bfd8-179071a8a1b8",
   "metadata": {},
   "source": [
    "## Now to train a regression model. But before we do that, we need to ask, why did we choose a regression model?\n",
    "\n",
    "### Regression models are chosen for targets which are continuous in nature. In our case, although age is not continuous in nature, the spread (variance) of the data is huge, so it might make sense that our model doesn't predict exact age but a real number, which we can then use as we like\r\n"
   ]
  },
  {
   "cell_type": "code",
   "execution_count": 20,
   "id": "906fd4c6-6f3b-47e3-bd32-57a378b9acfe",
   "metadata": {},
   "outputs": [
    {
     "data": {
      "text/html": [
       "<style>#sk-container-id-1 {color: black;background-color: white;}#sk-container-id-1 pre{padding: 0;}#sk-container-id-1 div.sk-toggleable {background-color: white;}#sk-container-id-1 label.sk-toggleable__label {cursor: pointer;display: block;width: 100%;margin-bottom: 0;padding: 0.3em;box-sizing: border-box;text-align: center;}#sk-container-id-1 label.sk-toggleable__label-arrow:before {content: \"▸\";float: left;margin-right: 0.25em;color: #696969;}#sk-container-id-1 label.sk-toggleable__label-arrow:hover:before {color: black;}#sk-container-id-1 div.sk-estimator:hover label.sk-toggleable__label-arrow:before {color: black;}#sk-container-id-1 div.sk-toggleable__content {max-height: 0;max-width: 0;overflow: hidden;text-align: left;background-color: #f0f8ff;}#sk-container-id-1 div.sk-toggleable__content pre {margin: 0.2em;color: black;border-radius: 0.25em;background-color: #f0f8ff;}#sk-container-id-1 input.sk-toggleable__control:checked~div.sk-toggleable__content {max-height: 200px;max-width: 100%;overflow: auto;}#sk-container-id-1 input.sk-toggleable__control:checked~label.sk-toggleable__label-arrow:before {content: \"▾\";}#sk-container-id-1 div.sk-estimator input.sk-toggleable__control:checked~label.sk-toggleable__label {background-color: #d4ebff;}#sk-container-id-1 div.sk-label input.sk-toggleable__control:checked~label.sk-toggleable__label {background-color: #d4ebff;}#sk-container-id-1 input.sk-hidden--visually {border: 0;clip: rect(1px 1px 1px 1px);clip: rect(1px, 1px, 1px, 1px);height: 1px;margin: -1px;overflow: hidden;padding: 0;position: absolute;width: 1px;}#sk-container-id-1 div.sk-estimator {font-family: monospace;background-color: #f0f8ff;border: 1px dotted black;border-radius: 0.25em;box-sizing: border-box;margin-bottom: 0.5em;}#sk-container-id-1 div.sk-estimator:hover {background-color: #d4ebff;}#sk-container-id-1 div.sk-parallel-item::after {content: \"\";width: 100%;border-bottom: 1px solid gray;flex-grow: 1;}#sk-container-id-1 div.sk-label:hover label.sk-toggleable__label {background-color: #d4ebff;}#sk-container-id-1 div.sk-serial::before {content: \"\";position: absolute;border-left: 1px solid gray;box-sizing: border-box;top: 0;bottom: 0;left: 50%;z-index: 0;}#sk-container-id-1 div.sk-serial {display: flex;flex-direction: column;align-items: center;background-color: white;padding-right: 0.2em;padding-left: 0.2em;position: relative;}#sk-container-id-1 div.sk-item {position: relative;z-index: 1;}#sk-container-id-1 div.sk-parallel {display: flex;align-items: stretch;justify-content: center;background-color: white;position: relative;}#sk-container-id-1 div.sk-item::before, #sk-container-id-1 div.sk-parallel-item::before {content: \"\";position: absolute;border-left: 1px solid gray;box-sizing: border-box;top: 0;bottom: 0;left: 50%;z-index: -1;}#sk-container-id-1 div.sk-parallel-item {display: flex;flex-direction: column;z-index: 1;position: relative;background-color: white;}#sk-container-id-1 div.sk-parallel-item:first-child::after {align-self: flex-end;width: 50%;}#sk-container-id-1 div.sk-parallel-item:last-child::after {align-self: flex-start;width: 50%;}#sk-container-id-1 div.sk-parallel-item:only-child::after {width: 0;}#sk-container-id-1 div.sk-dashed-wrapped {border: 1px dashed gray;margin: 0 0.4em 0.5em 0.4em;box-sizing: border-box;padding-bottom: 0.4em;background-color: white;}#sk-container-id-1 div.sk-label label {font-family: monospace;font-weight: bold;display: inline-block;line-height: 1.2em;}#sk-container-id-1 div.sk-label-container {text-align: center;}#sk-container-id-1 div.sk-container {/* jupyter's `normalize.less` sets `[hidden] { display: none; }` but bootstrap.min.css set `[hidden] { display: none !important; }` so we also need the `!important` here to be able to override the default hidden behavior on the sphinx rendered scikit-learn.org. See: https://github.com/scikit-learn/scikit-learn/issues/21755 */display: inline-block !important;position: relative;}#sk-container-id-1 div.sk-text-repr-fallback {display: none;}</style><div id=\"sk-container-id-1\" class=\"sk-top-container\"><div class=\"sk-text-repr-fallback\"><pre>LinearRegression()</pre><b>In a Jupyter environment, please rerun this cell to show the HTML representation or trust the notebook. <br />On GitHub, the HTML representation is unable to render, please try loading this page with nbviewer.org.</b></div><div class=\"sk-container\" hidden><div class=\"sk-item\"><div class=\"sk-estimator sk-toggleable\"><input class=\"sk-toggleable__control sk-hidden--visually\" id=\"sk-estimator-id-1\" type=\"checkbox\" checked><label for=\"sk-estimator-id-1\" class=\"sk-toggleable__label sk-toggleable__label-arrow\">LinearRegression</label><div class=\"sk-toggleable__content\"><pre>LinearRegression()</pre></div></div></div></div></div>"
      ],
      "text/plain": [
       "LinearRegression()"
      ]
     },
     "execution_count": 20,
     "metadata": {},
     "output_type": "execute_result"
    }
   ],
   "source": [
    "# create a model instance\n",
    "\n",
    "linear_model = LinearRegression()\n",
    "\n",
    "# train a model (also called fitting the data)\n",
    "linear_model.fit(train_x, train_y)"
   ]
  },
  {
   "cell_type": "markdown",
   "id": "0e7fbbb3-45c4-4b05-bb4b-b7ab1d6b320d",
   "metadata": {},
   "source": [
    "### Let make some predictions"
   ]
  },
  {
   "cell_type": "code",
   "execution_count": 21,
   "id": "655a0837-9440-48f7-b333-028d27d5afa7",
   "metadata": {},
   "outputs": [],
   "source": [
    "# if you've split your test data correctly the following should work\n",
    "\n",
    "predictions = linear_model.predict(test_x)"
   ]
  },
  {
   "cell_type": "markdown",
   "id": "d4f1ec80-862d-46ec-ad05-fd6917f66fc9",
   "metadata": {},
   "source": [
    "### Let's plot the predictions and the actual data"
   ]
  },
  {
   "cell_type": "code",
   "execution_count": 22,
   "id": "47bb4a67-4734-4ca5-b125-d8034c6236ac",
   "metadata": {},
   "outputs": [
    {
     "data": {
      "image/png": "[encoded data removed]",
      "text/plain": [
       "<Figure size 640x480 with 1 Axes>"
      ]
     },
     "metadata": {},
     "output_type": "display_data"
    }
   ],
   "source": [
    "plt.scatter(test_x.index, test_y, label='Actual')\n",
    "plt.scatter(test_x.index, predictions, label='Predictions')\n",
    "plt.xlabel('Data point')\n",
    "plt.ylabel('Age')\n",
    "plt.legend()\n",
    "plt.grid()\n",
    "plt.show()"
   ]
  },
  {
   "cell_type": "code",
   "execution_count": 23,
   "id": "3c5aaaf2-a2cb-4d6d-860d-3b26e2e91528",
   "metadata": {},
   "outputs": [
    {
     "name": "stdout",
     "output_type": "stream",
     "text": [
      "2.66857378809586\n"
     ]
    }
   ],
   "source": [
    "# let's also quantify our predictions with a number\n",
    "\n",
    "print(np.mean(np.square(predictions - test_y)))"
   ]
  },
  {
   "cell_type": "code",
   "execution_count": null,
   "id": "fb5ef538-ceb5-403c-a009-33ca278ad8b3",
   "metadata": {},
   "outputs": [],
   "source": []
  }
 ],
 "metadata": {
  "kernelspec": {
   "display_name": "Python 3 (ipykernel)",
   "language": "python",
   "name": "python3"
  },
  "language_info": {
   "codemirror_mode": {
    "name": "ipython",
    "version": 3
   },
   "file_extension": ".py",
   "mimetype": "text/x-python",
   "name": "python",
   "nbconvert_exporter": "python",
   "pygments_lexer": "ipython3",
   "version": "3.11.7"
  }
 },
 "nbformat": 4,
 "nbformat_minor": 5
}
